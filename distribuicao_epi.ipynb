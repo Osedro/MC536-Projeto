{
 "cells": [
  {
   "cell_type": "code",
   "execution_count": 1,
   "metadata": {},
   "outputs": [],
   "source": [
    "%defaultDatasource jdbc:h2:mem:db"
   ]
  },
  {
   "cell_type": "code",
   "execution_count": null,
   "metadata": {},
   "outputs": [],
   "source": [
    "DROP TABLE IF EXISTS Insumos;\n",
    "CREATE TABLE Insumos (\n",
    "    Material VARCHAR(10),\n",
    "    DataSaida VARCHAR(100),\n",
    "    NumeroPedido INTEGER,\n",
    "    RequisitanteDestino VARCHAR(100),\n",
    "    Unidade VARCHAR(2),\n",
    "    Quantidade INTEGER,\n",
    "    Status VARCHAR(100),\n",
    ") AS SELECT\n",
    "    MATERIAL,\n",
    "    DATASAIDA,\n",
    "    NUMEROPEDIDO,\n",
    "    REQUISITANTEESTADO,\n",
    "    UNIDADE,\n",
    "    QUANTIDADE,\n",
    "    STATUS,\n",
    "FROM CSVREAD('distribuicao_epi.csv');"
   ]
  },
  {
   "cell_type": "code",
   "execution_count": null,
   "metadata": {},
   "outputs": [],
   "source": [
    "SELECT * FROM Insumos;"
   ]
  }
 ],
 "metadata": {
  "kernelspec": {
   "display_name": "SQL",
   "language": "SQL",
   "name": "sql"
  },
  "language_info": {
   "codemirror_mode": "sql",
   "file_extension": ".sql",
   "mimetype": "",
   "name": "SQL",
   "nbconverter_exporter": "",
   "version": ""
  }
 },
 "nbformat": 4,
 "nbformat_minor": 4
}
