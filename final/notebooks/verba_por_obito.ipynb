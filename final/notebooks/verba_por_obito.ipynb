{
 "cells": [
  {
   "cell_type": "code",
   "execution_count": 1,
   "metadata": {},
   "outputs": [],
   "source": [
    "%defaultDatasource jdbc:h2:mem:db"
   ]
  },
  {
   "cell_type": "code",
   "execution_count": 11,
   "metadata": {},
   "outputs": [
    {
     "data": {
      "application/vnd.jupyter.widget-view+json": {
       "model_id": "55113251-47fd-4d88-8c88-bc7216d5b68f",
       "version_major": 2,
       "version_minor": 0
      },
      "method": "display_data"
     },
     "metadata": {},
     "output_type": "display_data"
    }
   ],
   "source": [
    "DROP TABLE IF EXISTS VerbaEstado;\n",
    "DROP TABLE IF EXISTS Respiradores;\n",
    "CREATE TABLE Respiradores (\n",
    "    Data VARCHAR(10),\n",
    "    Fornecedor VARCHAR(100),\n",
    "    Destino VARCHAR(100),\n",
    "    EstadoMunicipio VARCHAR(100),\n",
    "    Tipo VARCHAR(100),\n",
    "    Quantidade INTEGER,\n",
    "    Valor FLOAT,\n",
    "    UF VARCHAR(2),\n",
    "    DataEntrega VARCHAR(10),\n",
    ") AS SELECT\n",
    "    DATA,\n",
    "    FORNECEDOR,\n",
    "    DESTINO,\n",
    "    ESTADOMUNICIPIO,\n",
    "    TIPO,\n",
    "    QUANTIDADE,\n",
    "    VALOR,\n",
    "    UF,\n",
    "    DATADEENTREGA\n",
    "FROM CSVREAD('distribuicao_respiradores_certo.csv');\n",
    "\n",
    "SELECT *\n",
    "FROM Respiradores;"
   ]
  },
  {
   "cell_type": "code",
   "execution_count": 12,
   "metadata": {},
   "outputs": [
    {
     "data": {
      "application/vnd.jupyter.widget-view+json": {
       "model_id": "8630244f-a847-4f8b-a493-9d11520a5843",
       "version_major": 2,
       "version_minor": 0
      },
      "method": "display_data"
     },
     "metadata": {},
     "output_type": "display_data"
    }
   ],
   "source": [
    "DROP TABLE IF EXISTS VerbaEstado;\n",
    "CREATE VIEW VerbaEstado AS\n",
    "    SELECT R.UF, SUM(R.Valor) as TotalRecebido\n",
    "    FROM Respiradores as R\n",
    "    GROUP BY R.UF;\n",
    "\n",
    "SELECT *\n",
    "FROM VerbaEstado as VE\n",
    "GROUP BY VE.UF\n",
    "ORDER BY VE.TotalRecebido DESC;"
   ]
  },
  {
   "cell_type": "code",
   "execution_count": 4,
   "metadata": {},
   "outputs": [
    {
     "data": {
      "application/vnd.jupyter.widget-view+json": {
       "model_id": "139c9859-6e49-4b7c-8e8d-d650c1985ca1",
       "version_major": 2,
       "version_minor": 0
      },
      "method": "display_data"
     },
     "metadata": {},
     "output_type": "display_data"
    }
   ],
   "source": [
    "DROP TABLE IF EXISTS VerbaRegiao;\n",
    "CREATE TABLE VerbaRegiao (\n",
    "    Regiao VARCHAR(20),\n",
    "    Verba FLOAT,\n",
    ");\n",
    "\n",
    "INSERT INTO VerbaRegiao VALUES ('Sudeste',(SELECT SUM(VE.TotalRecebido)\n",
    "                                            FROM VerbaEstado as VE\n",
    "                                            WHERE VE.UF = 'SP' OR VE.UF = 'RJ' OR VE.UF = 'ES' OR VE.UF = 'MG'));\n",
    "                                            \n",
    "INSERT INTO VerbaRegiao VALUES ('Norte',(SELECT SUM(VE.TotalRecebido)\n",
    "                                            FROM VerbaEstado as VE\n",
    "                                            WHERE VE.UF = 'AM' OR VE.UF = 'RR' OR VE.UF = 'AP' OR VE.UF = 'PA' OR VE.UF = 'TO' OR VE.UF = 'RO' OR VE.UF = 'AC'));\n",
    "                                            \n",
    "INSERT INTO VerbaRegiao VALUES ('Nordeste',(SELECT SUM(VE.TotalRecebido)\n",
    "                                            FROM VerbaEstado as VE\n",
    "                                            WHERE VE.UF = 'MA' OR VE.UF = 'PI' OR VE.UF = 'CE' OR VE.UF = 'RN' OR VE.UF = 'PE' OR VE.UF = 'PB' OR VE.UF = 'SE' OR VE.UF = 'AL' OR VE.UF = 'BA'));\n",
    "                \n",
    "INSERT INTO VerbaRegiao VALUES ('CentroOeste',(SELECT SUM(VE.TotalRecebido)\n",
    "                                            FROM VerbaEstado as VE\n",
    "                                            WHERE VE.UF = 'MT' OR VE.UF = 'MS' OR VE.UF = 'GO' OR VE.UF = 'DF'));\n",
    "                                            \n",
    "INSERT INTO VerbaRegiao VALUES ('Sul',(SELECT SUM(VE.TotalRecebido)\n",
    "                                            FROM VerbaEstado as VE\n",
    "                                            WHERE VE.UF = 'PR' OR VE.UF = 'RS' OR VE.UF = 'SC'));\n",
    "\n",
    "SELECT * \n",
    "FROM VerbaRegiao as VR\n",
    "GROUP BY VR.Regiao\n",
    "ORDER BY VR.Verba DESC;"
   ]
  },
  {
   "cell_type": "code",
   "execution_count": 5,
   "metadata": {},
   "outputs": [
    {
     "data": {
      "application/vnd.jupyter.widget-view+json": {
       "model_id": "5cef8217-ebea-40f8-890b-f39f32bcad6c",
       "version_major": 2,
       "version_minor": 0
      },
      "method": "display_data"
     },
     "metadata": {},
     "output_type": "display_data"
    }
   ],
   "source": [
    "DROP TABLE IF EXISTS CasosRegiao;\n",
    "DROP TABLE IF EXISTS CasosEstado;\n",
    "\n",
    "CREATE TABLE CasosEstado (\n",
    "    Regiao VARCHAR(20),\n",
    "    Fornecedor VARCHAR(2),\n",
    "    CodUF INTEGER,\n",
    "    Data VARCHAR(100),\n",
    "    SemanaEPI INTEGER,\n",
    "    Populacao INTEGER,\n",
    "    CasosAcumulado INTEGER,\n",
    "    CasosNovos INTEGER,\n",
    "    ObitosAcumulados INTEGER,\n",
    "    ObitosNovos INTEGER,\n",
    ") AS SELECT\n",
    "    regiao,\n",
    "    estado,\n",
    "    coduf,\n",
    "    data,\n",
    "    semanaEpi,\n",
    "    populacaoTCU2019,\n",
    "    casosAcumulado,\n",
    "    casosNovos,\n",
    "    obitosAcumulado,\n",
    "    obitosNovos\n",
    "FROM CSVREAD('casos_por_estado.csv');\n",
    "\n",
    "SELECT *\n",
    "FROM CasosEstado;"
   ]
  },
  {
   "cell_type": "code",
   "execution_count": 6,
   "metadata": {},
   "outputs": [
    {
     "data": {
      "application/vnd.jupyter.widget-view+json": {
       "model_id": "5e58a862-8c05-4ae0-ba01-e255fd9d8b66",
       "version_major": 2,
       "version_minor": 0
      },
      "method": "display_data"
     },
     "metadata": {},
     "output_type": "display_data"
    }
   ],
   "source": [
    "DROP TABLE IF EXISTS CasosRegiao;\n",
    "CREATE VIEW CasosRegiao AS\n",
    "    SELECT CE.Regiao, SUM(CE.CasosAcumulado) AS TotalCasos,SUM(CE.ObitosAcumulados) AS TotalObitos\n",
    "    FROM CasosEstado AS CE\n",
    "    GROUP BY CE.Regiao;\n",
    "\n",
    "SELECT * \n",
    "FROM CasosRegiao;"
   ]
  },
  {
   "cell_type": "code",
   "execution_count": 7,
   "metadata": {},
   "outputs": [
    {
     "data": {
      "application/vnd.jupyter.widget-view+json": {
       "model_id": "69a494aa-a291-485c-b6e3-cfc6a91b80b8",
       "version_major": 2,
       "version_minor": 0
      },
      "method": "display_data"
     },
     "metadata": {},
     "output_type": "display_data"
    }
   ],
   "source": [
    "SELECT CR.Regiao, CR.TotalObitos, VR.Verba, VR.Verba/CR.TotalObitos AS VerbaPorObito, CAST((1.0*100*CR.TotalObitos/CR.TotalCasos) AS FLOAT) AS Mortalidade\n",
    "FROM CasosRegiao AS CR, VerbaRegiao AS VR\n",
    "WHERE CR.Regiao=VR.Regiao\n",
    "GROUP BY CR.Regiao\n",
    "ORDER BY Mortalidade DESC;"
   ]
  },
  {
   "cell_type": "code",
   "execution_count": 18,
   "metadata": {
    "scrolled": false
   },
   "outputs": [
    {
     "data": {
      "application/vnd.jupyter.widget-view+json": {
       "model_id": "f3a757ac-9d28-40c4-a722-41b71f2e41d7",
       "version_major": 2,
       "version_minor": 0
      },
      "method": "display_data"
     },
     "metadata": {},
     "output_type": "display_data"
    }
   ],
   "source": [
    "SELECT VE.UF AS Estado, CE.ObitosAcumulados AS Obitos, CE.CasosAcumulado AS Casos, VE.TotalRecebido AS Verba, VE.TotalRecebido/CE.ObitosAcumulados AS VerbaPorObito, \n",
    "        CAST(1.0*100*CE.ObitosAcumulados/CE.CasosAcumulado AS FLOAT) AS Mortalidade\n",
    "FROM CasosEstado AS CE, VerbaEstado AS VE\n",
    "WHERE CE.Fornecedor=VE.UF\n",
    "GROUP BY VE.UF\n",
    "ORDER BY Mortalidade DESC;"
   ]
  },
  {
   "cell_type": "code",
   "execution_count": 13,
   "metadata": {},
   "outputs": [
    {
     "data": {
      "application/vnd.jupyter.widget-view+json": {
       "model_id": "f25a6682-a381-40fa-807a-1d50efd8ff8e",
       "version_major": 2,
       "version_minor": 0
      },
      "method": "display_data"
     },
     "metadata": {},
     "output_type": "display_data"
    }
   ],
   "source": [
    "SELECT CR.Regiao, CR.TotalObitos, VR.Verba, VR.Verba/CR.TotalCasos AS VerbaPorCaso, CAST((1.0*100*CR.TotalObitos/CR.TotalCasos) AS FLOAT) AS Mortalidade\n",
    "FROM CasosRegiao AS CR, VerbaRegiao AS VR\n",
    "WHERE CR.Regiao=VR.Regiao\n",
    "GROUP BY CR.Regiao\n",
    "ORDER BY Mortalidade DESC;"
   ]
  },
  {
   "cell_type": "code",
   "execution_count": 19,
   "metadata": {
    "scrolled": false
   },
   "outputs": [
    {
     "data": {
      "application/vnd.jupyter.widget-view+json": {
       "model_id": "369e683a-3ea1-407b-bf49-d6bdb65aae5b",
       "version_major": 2,
       "version_minor": 0
      },
      "method": "display_data"
     },
     "metadata": {},
     "output_type": "display_data"
    }
   ],
   "source": [
    "SELECT VE.UF AS Estado, CE.ObitosAcumulados AS Obitos, CE.CasosAcumulado AS Casos, VE.TotalRecebido AS Verba, VE.TotalRecebido/CE.CasosAcumulado AS VerbaPorCaso, \n",
    "        CAST(1.0*100*CE.ObitosAcumulados/CE.CasosAcumulado AS FLOAT) AS Mortalidade\n",
    "FROM CasosEstado AS CE, VerbaEstado AS VE\n",
    "WHERE CE.Fornecedor=VE.UF\n",
    "GROUP BY VE.UF\n",
    "ORDER BY Mortalidade DESC;"
   ]
  },
  {
   "cell_type": "code",
   "execution_count": null,
   "metadata": {},
   "outputs": [],
   "source": []
  }
 ],
 "metadata": {
  "kernelspec": {
   "display_name": "SQL",
   "language": "SQL",
   "name": "sql"
  },
  "language_info": {
   "codemirror_mode": "sql",
   "file_extension": ".sql",
   "mimetype": "",
   "name": "SQL",
   "nbconverter_exporter": "",
   "version": ""
  },
  "toc": {
   "base_numbering": 1,
   "nav_menu": {},
   "number_sections": false,
   "sideBar": false,
   "skip_h1_title": false,
   "title_cell": "Table of Contents",
   "title_sidebar": "Contents",
   "toc_cell": false,
   "toc_position": {},
   "toc_section_display": false,
   "toc_window_display": false
  }
 },
 "nbformat": 4,
 "nbformat_minor": 4
}
