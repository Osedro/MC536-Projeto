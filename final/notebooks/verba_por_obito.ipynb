{
 "cells": [
  {
   "cell_type": "code",
   "execution_count": 1,
   "metadata": {},
   "outputs": [],
   "source": [
    "%defaultDatasource jdbc:h2:mem:db"
   ]
  },
  {
   "cell_type": "code",
   "execution_count": 9,
   "metadata": {},
   "outputs": [],
   "source": [
    "DROP TABLE IF EXISTS Respiradores;\n",
    "CREATE TABLE Respiradores (\n",
    "    Data VARCHAR(10),\n",
    "    Fornecedor VARCHAR(100),\n",
    "    Destino VARCHAR(100),\n",
    "    EstadoMunicipio VARCHAR(100),\n",
    "    Tipo VARCHAR(100),\n",
    "    Quantidade INTEGER,\n",
    "    Valor FLOAT,\n",
    "    UF VARCHAR(2),\n",
    "    DataEntrega VARCHAR(10),\n",
    ") AS SELECT\n",
    "    DATA,\n",
    "    FORNECEDOR,\n",
    "    DESTINO,\n",
    "    ESTADOMUNICIPIO,\n",
    "    TIPO,\n",
    "    QUANTIDADE,\n",
    "    VALOR,\n",
    "    UF,\n",
    "    DATADEENTREGA\n",
    "FROM CSVREAD('distribuicao_respiradores_certo.csv');"
   ]
  },
  {
   "cell_type": "code",
   "execution_count": 4,
   "metadata": {},
   "outputs": [
    {
     "data": {
      "application/vnd.jupyter.widget-view+json": {
       "model_id": "bc3cd35b-19ed-448d-9a2e-5a6349e636ae",
       "version_major": 2,
       "version_minor": 0
      },
      "method": "display_data"
     },
     "metadata": {},
     "output_type": "display_data"
    }
   ],
   "source": [
    "SELECT R.Destino, SUM(R.Valor) \n",
    "FROM Respiradores as R\n",
    "GROUP BY R.Destino;"
   ]
  },
  {
   "cell_type": "code",
   "execution_count": null,
   "metadata": {},
   "outputs": [],
   "source": []
  }
 ],
 "metadata": {
  "kernelspec": {
   "display_name": "SQL",
   "language": "SQL",
   "name": "sql"
  },
  "language_info": {
   "codemirror_mode": "sql",
   "file_extension": ".sql",
   "mimetype": "",
   "name": "SQL",
   "nbconverter_exporter": "",
   "version": ""
  },
  "toc": {
   "base_numbering": 1,
   "nav_menu": {},
   "number_sections": false,
   "sideBar": false,
   "skip_h1_title": false,
   "title_cell": "Table of Contents",
   "title_sidebar": "Contents",
   "toc_cell": false,
   "toc_position": {},
   "toc_section_display": false,
   "toc_window_display": false
  }
 },
 "nbformat": 4,
 "nbformat_minor": 4
}
