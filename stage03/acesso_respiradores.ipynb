{
 "cells": [
  {
   "cell_type": "code",
   "execution_count": 2,
   "metadata": {},
   "outputs": [],
   "source": [
    "%defaultDatasource jdbc:h2:mem:db"
   ]
  },
  {
   "cell_type": "code",
   "execution_count": 7,
   "metadata": {},
   "outputs": [],
   "source": [
    "DROP TABLE IF EXISTS Respiradores;\n",
    "CREATE TABLE Respiradores (\n",
    "    Data VARCHAR(10),\n",
    "    Fornecedor VARCHAR(100),\n",
    "    Destino VARCHAR(100),\n",
    "    EstadoMunicipio VARCHAR(100),\n",
    "    Tipo VARCHAR(100),\n",
    "    Quantidade INTEGER,\n",
    "    Valor FLOAT,\n",
    "    UF VARCHAR(2),\n",
    "    DataEntrega VARCHAR(10),\n",
    ") AS SELECT\n",
    "    DATA,\n",
    "    FORNECEDOR,\n",
    "    DESTINO,\n",
    "    ESTADOMUNICIPIO,\n",
    "    TIPO,\n",
    "    QUANTIDADE,\n",
    "    VALOR,\n",
    "    UF,\n",
    "    DATADEENTREGA\n",
    "FROM CSVREAD('distribuicao_respiradores_certo.csv');"
   ]
  },
  {
   "cell_type": "code",
   "execution_count": 8,
   "metadata": {},
   "outputs": [
    {
     "data": {
      "application/vnd.jupyter.widget-view+json": {
       "model_id": "055a780a-a59a-438e-a419-94b05efa3e99",
       "version_major": 2,
       "version_minor": 0
      },
      "method": "display_data"
     },
     "metadata": {},
     "output_type": "display_data"
    }
   ],
   "source": [
    "SELECT * FROM Respiradores;"
   ]
  },
  {
   "cell_type": "code",
   "execution_count": null,
   "metadata": {},
   "outputs": [],
   "source": []
  }
 ],
 "metadata": {
  "kernelspec": {
   "display_name": "SQL",
   "language": "SQL",
   "name": "sql"
  },
  "language_info": {
   "codemirror_mode": "sql",
   "file_extension": ".sql",
   "mimetype": "",
   "name": "SQL",
   "nbconverter_exporter": "",
   "version": ""
  },
  "toc": {
   "base_numbering": 1,
   "nav_menu": {},
   "number_sections": false,
   "sideBar": false,
   "skip_h1_title": false,
   "title_cell": "Table of Contents",
   "title_sidebar": "Contents",
   "toc_cell": false,
   "toc_position": {},
   "toc_section_display": false,
   "toc_window_display": false
  }
 },
 "nbformat": 4,
 "nbformat_minor": 4
}
