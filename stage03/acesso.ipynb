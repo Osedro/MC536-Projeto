{
 "cells": [
  {
   "cell_type": "code",
   "execution_count": 1,
   "metadata": {},
   "outputs": [],
   "source": [
    "%defaultDatasource jdbc:h2:mem:db"
   ]
  },
  {
   "cell_type": "code",
   "execution_count": 11,
   "metadata": {},
   "outputs": [
    {
     "ename": "org.h2.jdbc.JdbcSQLException",
     "evalue": " Unknown data type",
     "output_type": "error",
     "traceback": [
      "\u001b[1;31morg.h2.jdbc.JdbcSQLException: Unknown data type: \"MUNICIPIO\"; SQL statement:\u001b[0;0m",
      "\u001b[1;31mCREATE TABLE Respiradores (\u001b[0;0m",
      "\u001b[1;31mData VARCHAR(10),\u001b[0;0m",
      "\u001b[1;31mFornecedor VARCHAR(100),\u001b[0;0m",
      "\u001b[1;31mDestino VARCHAR(100),\u001b[0;0m",
      "\u001b[1;31mEstado Municipio VARCHAR(100),\u001b[0;0m",
      "\u001b[1;31mTipo VARCHAR(100),\u001b[0;0m",
      "\u001b[1;31mQuantidade INTEGER,\u001b[0;0m",
      "\u001b[1;31mValor INTEGER,\u001b[0;0m",
      "\u001b[1;31mDestinatario VARCHAR(100),\u001b[0;0m",
      "\u001b[1;31mUF VARCHAR(2),\u001b[0;0m",
      "\u001b[1;31mDataEntrega VARCHAR(10),\u001b[0;0m",
      "\u001b[1;31m) AS SELECT\u001b[0;0m",
      "\u001b[1;31mDATA,\u001b[0;0m",
      "\u001b[1;31mFORNECEDOR,\u001b[0;0m",
      "\u001b[1;31mDESTINO,\u001b[0;0m",
      "\u001b[1;31mESTADOMUINICIPIO,\u001b[0;0m",
      "\u001b[1;31mTIPO,\u001b[0;0m",
      "\u001b[1;31mQUANTIDADE,\u001b[0;0m",
      "\u001b[1;31mVALOR,\u001b[0;0m",
      "\u001b[1;31mDESTINATARIO,\u001b[0;0m",
      "\u001b[1;31mUF,\u001b[0;0m",
      "\u001b[1;31mDATAENTREGA\u001b[0;0m",
      "\u001b[1;31mFROM CSVREAD('distribuicao_resp_virgula.csv') [50004-197]\u001b[0;0m"
     ]
    }
   ],
   "source": [
    "DROP TABLE IF EXISTS Respiradores;\n",
    "CREATE TABLE Respiradores (\n",
    "    Data VARCHAR(10),\n",
    "    Fornecedor VARCHAR(100),\n",
    "    Destino VARCHAR(100),\n",
    "    Estado Municipio VARCHAR(100),\n",
    "    Tipo VARCHAR(100),\n",
    "    Quantidade INTEGER,\n",
    "    Valor INTEGER,\n",
    "    Destinatario VARCHAR(100),\n",
    "    UF VARCHAR(2),\n",
    "    DataEntrega VARCHAR(10),\n",
    ") AS SELECT\n",
    "    DATA,\n",
    "    FORNECEDOR,\n",
    "    DESTINO,\n",
    "    ESTADOMUINICIPIO,\n",
    "    TIPO,\n",
    "    QUANTIDADE,\n",
    "    VALOR,\n",
    "    DESTINATARIO,\n",
    "    UF,\n",
    "    DATAENTREGA\n",
    "FROM CSVREAD('distribuicao_resp_virgula.csv');"
   ]
  },
  {
   "cell_type": "code",
   "execution_count": 8,
   "metadata": {},
   "outputs": [
    {
     "data": {
      "application/vnd.jupyter.widget-view+json": {
       "model_id": "a2dc8d30-854c-447f-ad93-88a4da7d8a8f",
       "version_major": 2,
       "version_minor": 0
      },
      "method": "display_data"
     },
     "metadata": {},
     "output_type": "display_data"
    }
   ],
   "source": [
    "SELECT * FROM Respiradores;"
   ]
  },
  {
   "cell_type": "code",
   "execution_count": null,
   "metadata": {},
   "outputs": [],
   "source": []
  }
 ],
 "metadata": {
  "kernelspec": {
   "display_name": "SQL",
   "language": "SQL",
   "name": "sql"
  },
  "language_info": {
   "codemirror_mode": "sql",
   "file_extension": ".sql",
   "mimetype": "",
   "name": "SQL",
   "nbconverter_exporter": "",
   "version": ""
  },
  "toc": {
   "base_numbering": 1,
   "nav_menu": {},
   "number_sections": false,
   "sideBar": false,
   "skip_h1_title": false,
   "title_cell": "Table of Contents",
   "title_sidebar": "Contents",
   "toc_cell": false,
   "toc_position": {},
   "toc_section_display": false,
   "toc_window_display": false
  }
 },
 "nbformat": 4,
 "nbformat_minor": 4
}
